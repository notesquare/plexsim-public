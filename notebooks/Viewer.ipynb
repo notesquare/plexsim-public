{
 "cells": [
  {
   "cell_type": "code",
   "execution_count": 1,
   "id": "0204869f-4c9e-4aab-b3c1-a042feaf23d1",
   "metadata": {},
   "outputs": [],
   "source": [
    "import sys\n",
    "import os.path\n",
    "module_path = os.path.abspath(os.path.join('../'))\n",
    "if module_path not in sys.path:\n",
    "    sys.path.append(module_path)"
   ]
  },
  {
   "cell_type": "code",
   "execution_count": null,
   "id": "6d0b4818-ec93-4ae2-9a9b-1d4b55253230",
   "metadata": {},
   "outputs": [],
   "source": [
    "from plexsimviewer import H5Viewer\n",
    "\n",
    "fp = '../test.h5'\n",
    "snap = H5Viewer(fp)\n",
    "snap"
   ]
  },
  {
   "cell_type": "code",
   "execution_count": null,
   "id": "51ea85ae-6de7-4bab-889a-67563714a77d",
   "metadata": {},
   "outputs": [],
   "source": []
  }
 ],
 "metadata": {
  "kernelspec": {
   "display_name": "Python 3 (ipykernel)",
   "language": "python",
   "name": "python3"
  },
  "language_info": {
   "codemirror_mode": {
    "name": "ipython",
    "version": 3
   },
   "file_extension": ".py",
   "mimetype": "text/x-python",
   "name": "python",
   "nbconvert_exporter": "python",
   "pygments_lexer": "ipython3",
   "version": "3.9.12"
  }
 },
 "nbformat": 4,
 "nbformat_minor": 5
}
