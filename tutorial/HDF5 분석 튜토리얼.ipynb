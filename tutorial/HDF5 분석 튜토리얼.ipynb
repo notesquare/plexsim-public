{
 "cells": [
  {
   "cell_type": "markdown",
   "id": "33141fc1-d40f-4ba1-ad23-0b058ea71cc1",
   "metadata": {},
   "source": [
    "# PLEXsim 결과 `HDF5` 파일 분석 튜토리얼"
   ]
  },
  {
   "cell_type": "markdown",
   "id": "f4d7de42-468b-40a4-9ce5-2e8a9e6db65f",
   "metadata": {},
   "source": [
    "**Simulation 저장 그룹 구조**   \n",
    "(e.g. `proj.h5`)\n",
    "\n",
    "```\n",
    "/settings\n",
    "  /environment\n",
    "  /grids/{grid_index}\n",
    "  /simulation\n",
    "    @delta_time\n",
    "      ...\n",
    "/cycles/{cycle}\n",
    "  /stats\n",
    "    @n_particles\n",
    "    @kinetic_E\n",
    "    @field_E\n",
    "    @total_E\n",
    "  /field\n",
    "    B\n",
    "    E\n",
    "  /grids/{grid_index}\n",
    "    @tracking_particles\n",
    "    X  # might be virtual datatset to Grid\n",
    "    U  # might be virtual datatset to Grid\n",
    "    /tracked\n",
    "      @tracking_ids\n",
    "      X\n",
    "      U\n",
    "```\n",
    "\n",
    "<img src='https://img1.daumcdn.net/thumb/R1280x0/?scode=mtistory2&fname=https%3A%2F%2Fblog.kakaocdn.net%2Fdn%2FrTxWJ%2FbtqVb1q5svj%2FUfvALrkvpXcfsLefvIgeKK%2Fimg.png' width='50%'></img>"
   ]
  },
  {
   "cell_type": "markdown",
   "id": "a9cc2c0c-7f3d-439e-afc1-a3b8877d0f63",
   "metadata": {},
   "source": [
    "## 01 초기 세팅 확인하기"
   ]
  },
  {
   "cell_type": "code",
   "execution_count": null,
   "id": "8a1c985f-ef60-4562-8806-55c6c6be863f",
   "metadata": {},
   "outputs": [],
   "source": [
    "fp = 'sample/test.h5'"
   ]
  },
  {
   "cell_type": "code",
   "execution_count": null,
   "id": "0abe45e3-a7ef-4580-99d0-d3220efcdff5",
   "metadata": {},
   "outputs": [],
   "source": [
    "import h5py\n",
    "\n",
    "h5f = h5py.File(fp, 'r')"
   ]
  },
  {
   "cell_type": "markdown",
   "id": "1821c94d-9c85-4051-8e5f-5e2d26703895",
   "metadata": {},
   "source": [
    "- `keys()` 메서드로 하위 항목을 확인할 수 있다."
   ]
  },
  {
   "cell_type": "code",
   "execution_count": null,
   "id": "ac18ed4c-2668-4297-8982-511d43d0d43e",
   "metadata": {},
   "outputs": [],
   "source": [
    "h5f.keys()"
   ]
  },
  {
   "cell_type": "markdown",
   "id": "93260672-5d61-4242-990b-4bec1121de41",
   "metadata": {},
   "source": [
    "- `[]` 안에 경로를 넣어 하위 항목으로 이동할 수 있다."
   ]
  },
  {
   "cell_type": "code",
   "execution_count": null,
   "id": "0d19b30c-7b72-4b1d-93f5-f04a100d2cbf",
   "metadata": {},
   "outputs": [],
   "source": [
    "h5f['settings'].keys()"
   ]
  },
  {
   "cell_type": "code",
   "execution_count": null,
   "id": "fbf2f1e8-41ba-4c33-b90f-0bd0a830815c",
   "metadata": {},
   "outputs": [],
   "source": [
    "h5f['settings/environment']"
   ]
  },
  {
   "cell_type": "code",
   "execution_count": null,
   "id": "2b8c8854-5100-48b5-9c8a-778772dfbcb8",
   "metadata": {},
   "outputs": [],
   "source": [
    "h5f['settings']['environment']"
   ]
  },
  {
   "cell_type": "markdown",
   "id": "b09ccea0-7fe2-4599-860c-24b28e0765b8",
   "metadata": {},
   "source": [
    "- `.attrs` 로 메타데이터(attribute)를 읽을 수 있고, `dict()`를 사용하면 파이썬 딕셔너리로 변환 가능하다."
   ]
  },
  {
   "cell_type": "code",
   "execution_count": null,
   "id": "78b6f89c-d297-4240-8374-8af0aa1910c8",
   "metadata": {},
   "outputs": [],
   "source": [
    "dict(h5f['settings/environment'].attrs)"
   ]
  },
  {
   "cell_type": "code",
   "execution_count": null,
   "id": "ad2aecce-eb25-4a07-afda-ed475f39d507",
   "metadata": {},
   "outputs": [],
   "source": [
    "h5f['settings/environment'].attrs['grid_shape']"
   ]
  },
  {
   "cell_type": "code",
   "execution_count": null,
   "id": "364a18d9-37f4-47c2-a384-39ed47ebd564",
   "metadata": {},
   "outputs": [],
   "source": [
    "dict(h5f['settings/grids/0'].attrs)"
   ]
  },
  {
   "cell_type": "code",
   "execution_count": null,
   "id": "ac99aa14-cc60-43e5-89c9-cf77afadad45",
   "metadata": {},
   "outputs": [],
   "source": [
    "h5f.close()"
   ]
  },
  {
   "cell_type": "markdown",
   "id": "f20bfb64-c245-4472-8f92-512cbb9b693b",
   "metadata": {},
   "source": [
    "- `with as` 구문을 사용하면 자동으로 file close를 해주어 실수를 줄일 수 있다."
   ]
  },
  {
   "cell_type": "code",
   "execution_count": null,
   "id": "4fa0adef-00e8-4ac2-83f2-8cd8c3a46f33",
   "metadata": {},
   "outputs": [],
   "source": [
    "with h5py.File(fp, 'r') as h5f:\n",
    "    print(h5f['settings'].keys())"
   ]
  },
  {
   "cell_type": "markdown",
   "id": "4c764cae-b7a5-4587-b99e-778e802b8b88",
   "metadata": {},
   "source": [
    "## 02 입자 위치 및 속도 읽고 변환하기"
   ]
  },
  {
   "cell_type": "markdown",
   "id": "0124ab97-6a7a-4c27-8ee0-908427bd6b82",
   "metadata": {},
   "source": [
    "#### 특정 cycle, grid의 입자 위치, 속도 배열을 읽기"
   ]
  },
  {
   "cell_type": "code",
   "execution_count": null,
   "id": "d78a5688-2834-4820-8dbe-b1de11937b45",
   "metadata": {},
   "outputs": [],
   "source": [
    "import h5py\n",
    "\n",
    "fp = 'sample/test.h5'\n",
    "\n",
    "h5f = h5py.File(fp, 'r')"
   ]
  },
  {
   "cell_type": "code",
   "execution_count": null,
   "id": "4e93948e-3f3f-48f4-90f1-0b424621b858",
   "metadata": {},
   "outputs": [],
   "source": [
    "cycles = map(int, h5f['cycles'].keys())\n",
    "cycle = sorted(cycles)[-1]\n",
    "cycle"
   ]
  },
  {
   "cell_type": "code",
   "execution_count": null,
   "id": "37256d43-a0be-4261-a487-a2656caa2786",
   "metadata": {},
   "outputs": [],
   "source": [
    "grid = 0\n",
    "_path = f'cycles/{cycle}/grids/{grid}/X'\n",
    "\n",
    "h5f[_path]"
   ]
  },
  {
   "cell_type": "markdown",
   "id": "99d29101-93f3-41a3-8144-6f8cee543c00",
   "metadata": {},
   "source": [
    "- dataset에 인덱스로 접근해 값을 읽어올 수 있다."
   ]
  },
  {
   "cell_type": "code",
   "execution_count": null,
   "id": "73aba8c7-331b-4f43-8306-502a239552c2",
   "metadata": {},
   "outputs": [],
   "source": [
    "h5f[_path][287, 0]"
   ]
  },
  {
   "cell_type": "code",
   "execution_count": null,
   "id": "8902dfa2-69f1-4e68-b974-fdc8451dc4af",
   "metadata": {
    "tags": []
   },
   "outputs": [],
   "source": [
    "X = h5f[_path][:]\n",
    "print(type(X))\n",
    "print(X.shape)"
   ]
  },
  {
   "cell_type": "markdown",
   "id": "ba692d20-d863-47ee-88c6-8661e84e49e5",
   "metadata": {},
   "source": [
    "#### `Numpy` 배열을 `CSV`로 저장하기"
   ]
  },
  {
   "cell_type": "code",
   "execution_count": null,
   "id": "4f5f043e-c35b-481e-9a07-e9bb37989205",
   "metadata": {},
   "outputs": [],
   "source": [
    "import numpy as np\n",
    "\n",
    "np.savetxt('test.csv', X, delimiter=',')"
   ]
  },
  {
   "cell_type": "markdown",
   "id": "a670b77f-8bd2-4075-af36-0acba89187f4",
   "metadata": {},
   "source": [
    "#### `Numpy` 배열을 `Pandas` DataFrame으로 바꾸기"
   ]
  },
  {
   "cell_type": "code",
   "execution_count": null,
   "id": "a34a886b-2567-423f-9bd3-2a6e3c9fadc5",
   "metadata": {},
   "outputs": [],
   "source": [
    "import pandas as pd\n",
    "\n",
    "pd.DataFrame(X)"
   ]
  },
  {
   "cell_type": "code",
   "execution_count": null,
   "id": "812f6d09-3bb8-4f53-ae45-d3e3fee3f359",
   "metadata": {},
   "outputs": [],
   "source": [
    "h5f.close()"
   ]
  },
  {
   "cell_type": "markdown",
   "id": "ef461dcb-8480-461c-a3c0-c5e10d16194f",
   "metadata": {},
   "source": [
    "#### `multiprocessing`의 `Pool`을 이용해 모든 cycle, grid의 입자 위치, 속도를 `CSV`로 저장하는 코드"
   ]
  },
  {
   "cell_type": "code",
   "execution_count": null,
   "id": "75bbb2fd-e91f-4284-a75d-7499f29c008c",
   "metadata": {},
   "outputs": [],
   "source": [
    "%%time\n",
    "\n",
    "import os\n",
    "from multiprocessing import Pool\n",
    "\n",
    "import h5py\n",
    "import numpy as np\n",
    "\n",
    "\n",
    "fp = 'sample/test.h5'\n",
    "out_dir = 'out/'\n",
    "n_process = 32\n",
    "\n",
    "if not os.path.exists(out_dir):\n",
    "    os.mkdir(out_dir)\n",
    "\n",
    "with h5py.File(fp, 'r') as h5f:\n",
    "    def save_particles(cycle):\n",
    "        _path = f'cycles/{cycle}/grids/0/X'\n",
    "        if _path not in h5f:\n",
    "            return\n",
    "\n",
    "        for grid in h5f[f'cycles/{cycle}/grids'].keys():\n",
    "            prefix = f'cycles/{cycle}/grids/{grid}'\n",
    "            filepath = out_dir + prefix.replace('/', '_')\n",
    "\n",
    "            X = h5f[f'{prefix}/X'][:]\n",
    "            np.savetxt(f'{filepath}_X.csv', X, delimiter=',')\n",
    "\n",
    "            U = h5f[f'{prefix}/U'][:]\n",
    "            np.savetxt(f'{filepath}_U.csv', U, delimiter=',')\n",
    "            \n",
    "    cycles = map(int, h5f['cycles'].keys())\n",
    "\n",
    "    with Pool(n_process) as p:\n",
    "        p.map(save_particles, cycles)"
   ]
  },
  {
   "cell_type": "markdown",
   "id": "d52cd665-fee1-42c7-b351-18b1813a5402",
   "metadata": {},
   "source": [
    "## 03 입자 속도 분포를 그래프로 그리기"
   ]
  },
  {
   "cell_type": "code",
   "execution_count": null,
   "id": "01159fcc-d447-4d4f-a7a1-b1e7b0397df7",
   "metadata": {},
   "outputs": [],
   "source": [
    "import h5py\n",
    "\n",
    "fp = 'sample/test.h5'\n",
    "_path = 'cycles/0/grids/0/U'\n",
    "\n",
    "h5f = h5py.File(fp, 'r')\n",
    "U = h5f[_path][:]"
   ]
  },
  {
   "cell_type": "code",
   "execution_count": null,
   "id": "e517ae3e-f202-41e6-88f3-164605dad01f",
   "metadata": {},
   "outputs": [],
   "source": [
    "import pandas as pd\n",
    "\n",
    "U_df = pd.DataFrame(U, columns=['vx', 'vy', 'vz'])\n",
    "U_df['v'] = np.linalg.norm(U, axis=1)\n",
    "U_df"
   ]
  },
  {
   "cell_type": "code",
   "execution_count": null,
   "id": "49ae19df-dff1-4d6e-b719-0da1bf44f2f7",
   "metadata": {},
   "outputs": [],
   "source": [
    "import plotly.express as px\n",
    "\n",
    "px.histogram(U_df, x='v', marginal='box')"
   ]
  },
  {
   "cell_type": "code",
   "execution_count": null,
   "id": "727f8f59-48de-4492-a6c1-4a3f9c3d5379",
   "metadata": {},
   "outputs": [],
   "source": [
    "h5f.close()"
   ]
  },
  {
   "cell_type": "markdown",
   "id": "978543e1-58c4-449b-96c5-d48c3f40fac6",
   "metadata": {},
   "source": [
    "## 04 추적 중인 입자의 위치와 속도 변화를 그래프로 그리기"
   ]
  },
  {
   "cell_type": "code",
   "execution_count": null,
   "id": "df322c82-8fe3-421c-a9f2-1af4ce710b27",
   "metadata": {},
   "outputs": [],
   "source": [
    "import h5py\n",
    "\n",
    "fp = 'sample/test.h5'\n",
    "\n",
    "h5f = h5py.File(fp, 'r')"
   ]
  },
  {
   "cell_type": "code",
   "execution_count": null,
   "id": "f06f49b6-2e7b-4d6f-a3ce-13da68a448ab",
   "metadata": {},
   "outputs": [],
   "source": [
    "grid = 0\n",
    "tracking_id = 2\n",
    "\n",
    "history = []\n",
    "for cycle in sorted(h5f['cycles'], key=int)[:-1]:\n",
    "    base_path = f'cycles/{cycle}/grids/{grid}/tracked'\n",
    "    if base_path not in h5f:\n",
    "        continue\n",
    "\n",
    "    ids = h5f[base_path].attrs['tracking_ids']\n",
    "    if tracking_id not in ids:\n",
    "        break\n",
    "    index = np.where(ids == tracking_id)[0].item()\n",
    "    \n",
    "    X = h5f[f'{base_path}/X'][index]\n",
    "    U = h5f[f'{base_path}/U'][index]\n",
    "    history.append((X, U))"
   ]
  },
  {
   "cell_type": "code",
   "execution_count": null,
   "id": "97c5f0ee-f4f3-4459-ab27-0582879eac0d",
   "metadata": {},
   "outputs": [],
   "source": [
    "# !pip install pandas"
   ]
  },
  {
   "cell_type": "code",
   "execution_count": null,
   "id": "739bdf61-db5f-463a-9e3b-e6493fb42ee6",
   "metadata": {},
   "outputs": [],
   "source": [
    "import pandas as pd\n",
    "\n",
    "X_df = pd.DataFrame([X for X, U in history], columns=['x', 'y', 'z'])\n",
    "U_df = pd.DataFrame([U for X, U in history], columns=['vx', 'vy', 'vz'])\n",
    "X_df"
   ]
  },
  {
   "cell_type": "code",
   "execution_count": null,
   "id": "fc40ee2e-6e50-4a4c-98a0-16e7e93eb327",
   "metadata": {},
   "outputs": [],
   "source": [
    "import plotly.graph_objects as go\n",
    "\n",
    "fig1 = go.Figure()\n",
    "for x in ['x', 'y', 'z']:\n",
    "    fig1.add_trace(go.Scatter(x=X_df.index, y=X_df[x], name=x))\n",
    "fig1.update_layout(title='position')\n",
    "fig1.show()\n",
    "\n",
    "fig2 = go.Figure()\n",
    "for v in ['vx', 'vy', 'vz']:\n",
    "    fig2.add_trace(go.Scatter(x=U_df.index, y=U_df[v], name=v))\n",
    "fig2.update_layout(title='velocity')\n",
    "fig2.show()"
   ]
  },
  {
   "cell_type": "code",
   "execution_count": null,
   "id": "68e31caa-b5bd-431d-9557-eaa971c24389",
   "metadata": {},
   "outputs": [],
   "source": [
    "h5f.close()"
   ]
  }
 ],
 "metadata": {
  "kernelspec": {
   "display_name": "Python 3 (ipykernel)",
   "language": "python",
   "name": "python3"
  },
  "language_info": {
   "codemirror_mode": {
    "name": "ipython",
    "version": 3
   },
   "file_extension": ".py",
   "mimetype": "text/x-python",
   "name": "python",
   "nbconvert_exporter": "python",
   "pygments_lexer": "ipython3",
   "version": "3.9.12"
  }
 },
 "nbformat": 4,
 "nbformat_minor": 5
}
